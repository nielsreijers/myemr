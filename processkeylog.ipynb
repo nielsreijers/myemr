{
 "cells": [
  {
   "cell_type": "code",
   "execution_count": null,
   "metadata": {},
   "outputs": [],
   "source": [
    "import mysql.connector as mysql\n",
    "\n",
    "db = mysql.connect(\n",
    "    host = \"localhost\",\n",
    "    user = \"root\",\n",
    "    passwd = \"1234\",\n",
    "    database = \"imagedescription\"\n",
    ")"
   ]
  },
  {
   "cell_type": "code",
   "execution_count": null,
   "metadata": {},
   "outputs": [],
   "source": [
    "def processStepResult(result_id):\n",
    "    cursor_events = db.cursor(prepared=True)\n",
    "   \n",
    "    query = \"\"\"\n",
    "        select id, unix_time, type, data from logger_traces lt\n",
    "        where type in ('keydown', 'keyup')\n",
    "        and uuid = (select uuid from step_results where id=%s)\n",
    "        order by unix_time;\n",
    "    \"\"\"\n",
    "    cursor_events.execute(query, (result_id, ))\n",
    "    \n",
    "    events = cursor_events.fetchall()\n",
    "\n",
    "    downkeys = {}\n",
    "    prev_event = None\n",
    "    for event in events:\n",
    "        (id, unix_time, type, key) = event\n",
    "\n",
    "        # Use lowercase key because the key in the event will be upper or lowercase depending on whether shift is pressed.\n",
    "        # The key value for the down event will be a capital if a capital is typed, but the up event may be lower case\n",
    "        # if shift is released before the key is released.\n",
    "        if key.__class__ == str:\n",
    "            key = key.lower()\n",
    "\n",
    "        if type == 'keydown':\n",
    "            if not key in downkeys:\n",
    "                downkeys[key] = event\n",
    "            else:\n",
    "                (id_down, unix_time_down, _, _) = downkeys[key]\n",
    "                print(f\"========= DOUBLE DOWNKEY EVENT: {event} PREVIOUS EVENT AT {unix_time_down}, ID {id_down}\")            \n",
    "                downkeys[key] = event\n",
    "        else: # keyup\n",
    "            if key in downkeys:\n",
    "                (id_down, unix_time_down, _, key_down) = downkeys[key]\n",
    "                DU = unix_time - unix_time_down\n",
    "                if prev_event == None:\n",
    "                    DD = -1\n",
    "                    UD = -1\n",
    "                    UU = -1\n",
    "                else:\n",
    "                    (prev_unix_time_down, prev_unix_time_up) = prev_event\n",
    "                    DD = unix_time_down - prev_unix_time_down\n",
    "                    UD = unix_time_down - prev_unix_time_up\n",
    "                    UU = unix_time - prev_unix_time_up\n",
    "\n",
    "                    print(f\"key {key_down:10} DU {DU:6} UD {UD:6} DD {DD:6} UU {UU:6}    D at time {unix_time_down%1000000:6}->{unix_time%1000000:6} ids ({id_down:7}, {id:7})\")\n",
    "                prev_event = (unix_time_down, unix_time)\n",
    "                downkeys.pop(key, None)\n",
    "            else:\n",
    "                print(f\"========= UPKEY WITHOUT MATCHING DOWNKEY: {event}\")\n",
    "\n",
    "    for key in downkeys:\n",
    "        print(f\"========= DOWNKEY EVENT WITHOUT MATCHING UPKEY: {downkeys[key]}\")\n"
   ]
  },
  {
   "cell_type": "code",
   "execution_count": null,
   "metadata": {},
   "outputs": [],
   "source": [
    "cursor_results = db.cursor()\n",
    "\n",
    "cursor_results.execute(\"\"\"\n",
    "    select id, result from step_results sr\n",
    "\"\"\")\n",
    "## 'fetchall()' method fetches all the rows from the last executed statement\n",
    "results = cursor_results.fetchall()\n",
    "\n",
    "for (result_id, result) in results:\n",
    "    print(f\"=================================================================================\")\n",
    "    print(f\"========= RESULT {result_id}: {result}\")\n",
    "    print(f\"=================================================================================\")\n",
    "    processStepResult(result_id)\n"
   ]
  }
 ],
 "metadata": {
  "kernelspec": {
   "display_name": "Python 3",
   "language": "python",
   "name": "python3"
  },
  "language_info": {
   "codemirror_mode": {
    "name": "ipython",
    "version": 3
   },
   "file_extension": ".py",
   "mimetype": "text/x-python",
   "name": "python",
   "nbconvert_exporter": "python",
   "pygments_lexer": "ipython3",
   "version": "3.7.1"
  }
 },
 "nbformat": 4,
 "nbformat_minor": 4
}
