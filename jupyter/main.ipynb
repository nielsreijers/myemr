{
 "cells": [
  {
   "cell_type": "code",
   "execution_count": null,
   "metadata": {},
   "outputs": [],
   "source": [
    "%load_ext autoreload\n",
    "%autoreload 2"
   ]
  },
  {
   "cell_type": "code",
   "execution_count": null,
   "metadata": {},
   "outputs": [],
   "source": [
    "from tqdm import tqdm\n",
    "\n",
    "import myfunctions\n",
    "import myplot\n",
    "import mylearn\n",
    "import sklearn.cluster\n",
    "import sklearn.mixture\n",
    "from sklearn.metrics.cluster import homogeneity_completeness_v_measure\n",
    "from sklearn.metrics import silhouette_score\n",
    "import matplotlib.pyplot as plt\n",
    "\n",
    "logitech_step1_fast = ('logitech-fast/niels-step_1-1617765899871', 0)\n",
    "logitech_step1_slow = ('logitech-slow/niels-step_1-1617765658270', 60, True)\n",
    "lenovo_slow = ('lenovo-slow-easy/niels-step_5-1617952576650', 0)\n",
    "lenovo_slow2 = ('lenovo-slow-easy/niels-step_5-1618197371437', 0)\n",
    "lenovo_hard = ('lenovo-hard/niels-step_1-1618199054005', 0)\n",
    "noweb1 = ('winform/winform-1618904428438', 60, False)"
   ]
  },
  {
   "cell_type": "code",
   "execution_count": null,
   "metadata": {},
   "outputs": [],
   "source": [
    "path, sync_adjustment, adjust_missing_samples = logitech_step1_slow\n",
    "d = myfunctions.getData(path, sync_adjustment=sync_adjustment, adjust_missing_samples=adjust_missing_samples)"
   ]
  },
  {
   "cell_type": "code",
   "execution_count": null,
   "metadata": {},
   "outputs": [],
   "source": [
    "# myplot.plotKeystrokeContext(d, 11, 50)\n",
    "\n",
    "# for i in range(21, 31):\n",
    "#     myplot.plotKeystroke(d, i)\n",
    "\n",
    "myplot.plotLostSamples(d)"
   ]
  },
  {
   "cell_type": "code",
   "execution_count": null,
   "metadata": {},
   "outputs": [],
   "source": [
    "mylearn.addFeatures(d)"
   ]
  },
  {
   "cell_type": "code",
   "execution_count": null,
   "metadata": {},
   "outputs": [],
   "source": [
    "\n",
    "def tmp(data):\n",
    "    def filterLabels(labels, keep=['Space', 'Backspace', 'Enter']):\n",
    "        return [label if label in keep else 'Other' for label in labels]\n",
    "    \n",
    "    labels = data['keystroke_labels']\n",
    "    print(len(labels))\n",
    "    features = mylearn.getConcatenatedFeatures(data, ['mfcc_mean', 'mfcc_std'])\n",
    "    \n",
    "    filtered_labels = filterLabels(labels, keep = ['Space', 'Back', 'Return'])\n",
    "    n_clusters = len(set(filtered_labels)) + 1\n",
    "\n",
    "    clustering=sklearn.cluster.k_means(features, n_clusters=n_clusters)[1]\n",
    "    mylearn.printClusteringResult(clustering, filtered_labels, 'k_means')\n",
    "\n",
    "    gm = sklearn.mixture.GaussianMixture(n_clusters)\n",
    "    gm.fit(features)\n",
    "    clustering = gm.predict(features)\n",
    "    mylearn.printClusteringResult(clustering, filtered_labels, 'GaussianMixture')\n",
    "tmp(d)\n"
   ]
  },
  {
   "cell_type": "code",
   "execution_count": null,
   "metadata": {},
   "outputs": [],
   "source": [
    "def findNumberOfClusters(features):\n",
    "    x = list(range(2, 20))\n",
    "    scores = []\n",
    "    for n_clusters in tqdm(x):\n",
    "        kmeans = sklearn.cluster.KMeans(n_clusters)\n",
    "        kmeans.fit(features)\n",
    "        kmeans_score = kmeans.score(features)\n",
    "        clustering = kmeans.predict(features)\n",
    "        kmeans_silhouette_score = silhouette_score(features, clustering)\n",
    "\n",
    "        gm = sklearn.mixture.GaussianMixture(n_clusters)\n",
    "        gm.fit(features)\n",
    "        gm_score = gm.score(features)\n",
    "        gm_bic_score = gm.bic(features)\n",
    "        \n",
    "        scores.append((kmeans_score, kmeans_silhouette_score, gm_score, gm_bic_score))\n",
    "    return x, scores\n",
    "\n",
    "features = mylearn.getConcatenatedFeatures(d, ['mfcc_max', 'mfcc_mean', 'mfcc_std'])\n",
    "number_of_clusters,scores = findNumberOfClusters(mylearn.getConcatenatedFeatures(d, ['mfcc_max', 'mfcc_mean', 'mfcc_std']))\n",
    "\n",
    "for (i, s) in enumerate(['kmeans_score', 'kmeans_silhouette_score', 'gm_score', 'gm_bic_score']):\n",
    "    plt.figure()\n",
    "    plt.title(s)\n",
    "    plt.scatter(number_of_clusters, [x[i] for x in scores])\n",
    "    plt.show()"
   ]
  },
  {
   "cell_type": "code",
   "execution_count": null,
   "metadata": {},
   "outputs": [],
   "source": [
    "wav = logitech_step1_slow['keystroke_wavs'][0]\n",
    "print( librosa.feature.spectral_centroid(wav, 48000, win_length=1000, hop_length=2).shape )\n",
    "print( librosa.feature.chroma_stft(wav, 48000, win_length=1000, hop_length=2).shape )\n",
    "print( librosa.feature.zero_crossing_rate(wav, frame_length=1000, hop_length=2).shape )\n",
    "print( list(librosa.feature.zero_crossing_rate(wav, frame_length=2, hop_length=2)[0]) )"
   ]
  },
  {
   "cell_type": "code",
   "execution_count": null,
   "metadata": {},
   "outputs": [],
   "source": [
    "# getDroppedSamplesTimeAndLength(logitech_step1_fast, True)\n",
    "# getDroppedSamplesTimeAndLength(logitech_step1_slow, True)\n",
    "# plotBokeh(getDataSubset(logitech_step1_slow, 1800, 3000), 50)\n",
    "# plotBokeh(getDataSubset(logitech_step1_slow, 142000, 2000), 50, whichWav='wav')\n",
    "# plotBokeh(getDataSubset(logitech_step1_slow, 142000, 2000), 50, whichWav='adjusted_wav')\n",
    "# plotBokeh(getDataSubset(logitech_step1_slow, 182000, 2000), 50, whichWav='wav')\n",
    "# plotBokeh(getDataSubset(logitech_step1_slow, 182000, 2000), 50, whichWav='adjusted_wav')\n",
    "# plotBokeh(getDataSubset(logitech_step1_slow, 0, 2000), 50, whichWav='wav')\n",
    "# getDroppedSamplesTimeAndLength(lenovo_slow, True)\n",
    "\n",
    "for i in range(10, 17):\n",
    "    myplot.plotKeystroke(d, i)"
   ]
  },
  {
   "cell_type": "code",
   "execution_count": null,
   "metadata": {},
   "outputs": [],
   "source": []
  }
 ],
 "metadata": {
  "kernelspec": {
   "display_name": "Python 3",
   "language": "python",
   "name": "python3"
  },
  "language_info": {
   "codemirror_mode": {
    "name": "ipython",
    "version": 3
   },
   "file_extension": ".py",
   "mimetype": "text/x-python",
   "name": "python",
   "nbconvert_exporter": "python",
   "pygments_lexer": "ipython3",
   "version": "3.7.3"
  }
 },
 "nbformat": 4,
 "nbformat_minor": 4
}
