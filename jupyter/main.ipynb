{
 "cells": [
  {
   "cell_type": "code",
   "execution_count": null,
   "metadata": {},
   "outputs": [],
   "source": [
    "%load_ext autoreload\n",
    "%autoreload 2"
   ]
  },
  {
   "cell_type": "code",
   "execution_count": null,
   "metadata": {},
   "outputs": [],
   "source": [
    "from tqdm import tqdm\n",
    "import matplotlib.pyplot as plt\n",
    "\n",
    "import myfunctions\n",
    "import myplot\n",
    "import mylearn\n",
    "import myhelpers\n",
    "\n",
    "logitech_step1_fast = ('logitech-fast/niels-step_1-1617765899871', 0)\n",
    "logitech_step1_slow = ('logitech-slow/niels-step_1-1617765658270', 60, True)\n",
    "lenovo_slow = ('lenovo-slow-easy/niels-step_5-1617952576650', 0)\n",
    "lenovo_slow2 = ('lenovo-slow-easy/niels-step_5-1618197371437', 0)\n",
    "lenovo_hard = ('lenovo-hard/niels-step_1-1618199054005', 0)\n",
    "noweb1 = ('winform/winform-1618904428438', 60, False)\n",
    "noweb2 = ('winform/winform-1619147742756', 75, False)\n",
    "noweb_logitech = ('winform/winform-1619400514590', -80, True) # Still lost some samples after about 100 seconds\n",
    "\n",
    "def getData2(x, keystroke_min_peak_level):\n",
    "    path, sync_adjustment, adjust_missing_samples = x\n",
    "    d = myfunctions.getData(path,\n",
    "                            sync_adjustment=sync_adjustment,\n",
    "                            adjust_missing_samples=adjust_missing_samples,\n",
    "                            keystroke_min_peak_level=keystroke_min_peak_level)\n",
    "    print(myhelpers.getListGroupPercentages([x[0] for x in d['keystrokes']], '\\n'))\n",
    "    return d"
   ]
  },
  {
   "cell_type": "code",
   "execution_count": null,
   "metadata": {},
   "outputs": [],
   "source": [
    "d = getData2(noweb_logitech, keystroke_min_peak_level=0.1)"
   ]
  },
  {
   "cell_type": "code",
   "execution_count": null,
   "metadata": {},
   "outputs": [],
   "source": [
    "# myplot.plotLostSamples(d)\n",
    "\n",
    "myplot.plotKeystrokeContext(d, 900, -80)\n",
    "\n",
    "# for i in range(21, 31):\n",
    "#     myplot.plotKeystroke(d, i)\n",
    "\n",
    "# d.keys()\n",
    "\n",
    "# set([x[3] for x in d['down_events']])"
   ]
  },
  {
   "cell_type": "code",
   "execution_count": null,
   "metadata": {},
   "outputs": [],
   "source": [
    "# This worked pretty well (lenovo)\n",
    "# mylearn.testClustering(myfunctions.getData('winform/winform-1619147742756',\n",
    "#                                            sync_adjustment=75,\n",
    "#                                            adjust_missing_samples=False,\n",
    "#                                            keystroke_min_peak_level=0.1),\n",
    "#     keep=None,\n",
    "#     features=['mfcc_mean', 'mfcc_std'])\n",
    "\n",
    "# Half-decent result using larger dataset (6 min, ~800 keystrokes), but still an easy case with just 4 keys (Return, Space, Tilde, Backspace)\n",
    "mylearn.testClustering(myfunctions.getData('winform/winform-1619400514590',\n",
    "                                           sync_adjustment=-80,\n",
    "                                           adjust_missing_samples=False,\n",
    "                                           keystroke_min_peak_level=0.1),\n",
    "    keep=None,\n",
    "    features=['mfcc_mean', 'mfcc_std'])"
   ]
  },
  {
   "cell_type": "code",
   "execution_count": null,
   "metadata": {},
   "outputs": [],
   "source": [
    "mylearn.testClustering(d,\n",
    "    keep=None,\n",
    "    features=[\n",
    "        'mfcc_mean',\n",
    "        'mfcc_std',\n",
    "#         'mfcc_max',\n",
    "#         'mfcc_argmax_time',\n",
    "#         'mfcc_argmax_channel'\n",
    "    ])\n",
    "\n"
   ]
  },
  {
   "cell_type": "code",
   "execution_count": null,
   "metadata": {},
   "outputs": [],
   "source": [
    "def findNumberOfClusters(features):\n",
    "    x = list(range(2, 20))\n",
    "    scores = []\n",
    "    for n_clusters in tqdm(x):\n",
    "        kmeans = sklearn.cluster.KMeans(n_clusters)\n",
    "        kmeans.fit(features)\n",
    "        kmeans_score = kmeans.score(features)\n",
    "        clustering = kmeans.predict(features)\n",
    "        kmeans_silhouette_score = silhouette_score(features, clustering)\n",
    "\n",
    "        gm = sklearn.mixture.GaussianMixture(n_clusters)\n",
    "        gm.fit(features)\n",
    "        gm_score = gm.score(features)\n",
    "        gm_bic_score = gm.bic(features)\n",
    "        \n",
    "        scores.append((kmeans_score, kmeans_silhouette_score, gm_score, gm_bic_score))\n",
    "    return x, scores\n",
    "\n",
    "features = mylearn.getConcatenatedFeatures(d, ['mfcc_max', 'mfcc_mean', 'mfcc_std'])\n",
    "number_of_clusters,scores = findNumberOfClusters(mylearn.getConcatenatedFeatures(d, ['mfcc_max', 'mfcc_mean', 'mfcc_std']))\n",
    "\n",
    "for (i, s) in enumerate(['kmeans_score', 'kmeans_silhouette_score', 'gm_score', 'gm_bic_score']):\n",
    "    plt.figure()\n",
    "    plt.title(s)\n",
    "    plt.scatter(number_of_clusters, [x[i] for x in scores])\n",
    "    plt.show()"
   ]
  },
  {
   "cell_type": "code",
   "execution_count": null,
   "metadata": {},
   "outputs": [],
   "source": [
    "import librosa\n",
    "sr = d['sr']\n",
    "srms = int(sr/1000)\n",
    "window_length = int(10*srms)\n",
    "hop_length = int(2.5*srms)\n",
    "wav = d['keystroke_wavs'][0]\n",
    "print( len(wav) )\n",
    "print( len(wav) / srms )\n",
    "print( librosa.feature.spectral_centroid(wav, sr, win_length=window_length, hop_length=hop_length).shape )\n",
    "print( librosa.feature.chroma_stft(wav, sr, win_length=window_length, hop_length=hop_length).shape )\n",
    "print( librosa.feature.zero_crossing_rate(wav, frame_length=window_length, hop_length=hop_length).shape )"
   ]
  },
  {
   "cell_type": "code",
   "execution_count": null,
   "metadata": {},
   "outputs": [],
   "source": [
    "mylearn.addFeatures(d)\n",
    "print(d['normalised_mfcc_features'].shape)\n",
    "print(d['mfcc_max'].shape)\n",
    "print(d['mfcc_argmax_time'].shape)\n",
    "print(d['mfcc_argmax_channel'].shape)\n",
    "# import numpy as np\n",
    "# print(np.argmax([[1,2,1], [3,4,5]], axis=0))"
   ]
  },
  {
   "cell_type": "code",
   "execution_count": null,
   "metadata": {},
   "outputs": [],
   "source": [
    "\n",
    "for i in range(10, 17):\n",
    "    myplot.plotKeystroke(d, i)"
   ]
  },
  {
   "cell_type": "code",
   "execution_count": null,
   "metadata": {},
   "outputs": [],
   "source": [
    "def p(key):\n",
    "    indexes = [i for i, k in enumerate(d['keystrokes']) if k[0]==key]\n",
    "    for i in indexes:\n",
    "        myplot.plotKeystroke(d, i)\n",
    "p('Return')\n",
    "p('Oemplus')"
   ]
  },
  {
   "cell_type": "code",
   "execution_count": null,
   "metadata": {},
   "outputs": [],
   "source": []
  }
 ],
 "metadata": {
  "kernelspec": {
   "display_name": "Python 3",
   "language": "python",
   "name": "python3"
  },
  "language_info": {
   "codemirror_mode": {
    "name": "ipython",
    "version": 3
   },
   "file_extension": ".py",
   "mimetype": "text/x-python",
   "name": "python",
   "nbconvert_exporter": "python",
   "pygments_lexer": "ipython3",
   "version": "3.7.3"
  }
 },
 "nbformat": 4,
 "nbformat_minor": 4
}
